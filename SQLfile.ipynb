{
  "nbformat": 4,
  "nbformat_minor": 0,
  "metadata": {
    "colab": {
      "provenance": [],
      "authorship_tag": "ABX9TyN3XZU24s/8Xd/B91oDEiK1",
      "include_colab_link": true
    },
    "kernelspec": {
      "name": "python3",
      "display_name": "Python 3"
    },
    "language_info": {
      "name": "python"
    }
  },
  "cells": [
    {
      "cell_type": "markdown",
      "metadata": {
        "id": "view-in-github",
        "colab_type": "text"
      },
      "source": [
        "<a href=\"https://colab.research.google.com/github/200545932/DataProgramming/blob/master/SQLfile.ipynb\" target=\"_parent\"><img src=\"https://colab.research.google.com/assets/colab-badge.svg\" alt=\"Open In Colab\"/></a>"
      ]
    },
    {
      "cell_type": "markdown",
      "source": [
        "# There is a table World in the attached SQL file. SQL.txt\n",
        "A country is big if it has an area of bigger than 3 million square km or a population of more than 25 million.\n",
        "Write a SQL solution to output big countries' name, population and area.\n",
        "In an ipython notebook create a sqlite3 database and a table called World. Insert the World data into your table (python + SQL syntax) and then proceed to write the big countries query. Your output does not need to be formatted like table, you may just print the countries with thier populations and areas.\n",
        "Upload your ipython notebook with output to this question.\n"
      ],
      "metadata": {
        "id": "ZDkwEVgX7HUv"
      }
    },
    {
      "cell_type": "code",
      "source": [
        "import sqlite3\n",
        "\n",
        "# Create a SQLite database and connect to it\n",
        "conn = sqlite3.connect('world.db')\n",
        "cursor = conn.cursor()\n"
      ],
      "metadata": {
        "id": "wMa87b1OuPU_"
      },
      "execution_count": null,
      "outputs": []
    },
    {
      "cell_type": "code",
      "source": [
        "# Create the World table\n",
        "create_table_query = '''\n",
        "CREATE TABLE IF NOT EXISTS World (\n",
        "    name TEXT,\n",
        "    continent TEXT,\n",
        "    area REAL,\n",
        "    population INTEGER,\n",
        "    gdp INTEGER\n",
        ");\n",
        "'''\n",
        "cursor.execute(create_table_query)"
      ],
      "metadata": {
        "colab": {
          "base_uri": "https://localhost:8080/"
        },
        "id": "nInIC7fz2dJp",
        "outputId": "bed0c122-202c-4ae3-9819-80f0332871c9"
      },
      "execution_count": null,
      "outputs": [
        {
          "output_type": "execute_result",
          "data": {
            "text/plain": [
              "<sqlite3.Cursor at 0x7efef19ad840>"
            ]
          },
          "metadata": {},
          "execution_count": 3
        }
      ]
    },
    {
      "cell_type": "code",
      "source": [
        "# Insert World data into the table\n",
        "insert_data_query = '''\n",
        "INSERT INTO World (name, continent, area, population, gdp )\n",
        "VALUES\n",
        "    ('Afghanistan','Asia', 652230, 25500100,20343000 ),\n",
        "    ('Albania','Europe', 28748, 2831741,12960000 ),\n",
        "    ('Algeria','Africa', 2381741, 37100000,188681000 ),\n",
        "    ('Andorra','Europe', 468, 78115,3712000 ),\n",
        "    ('Angola','Africa', 1246700, 20609294, 100990000);\n",
        "'''\n",
        "cursor.execute(insert_data_query)\n",
        "\n",
        "# Commit the changes and close the connection\n",
        "conn.commit()"
      ],
      "metadata": {
        "id": "IQuJdTDp5Zax"
      },
      "execution_count": null,
      "outputs": []
    },
    {
      "cell_type": "code",
      "source": [
        "\n",
        "# Execute the SQL query\n",
        "big_countries_query = '''\n",
        "SELECT name, population, area\n",
        "FROM World\n",
        "WHERE area > 3000000 OR population > 25000000;\n",
        "'''\n",
        "cursor.execute(big_countries_query)\n"
      ],
      "metadata": {
        "colab": {
          "base_uri": "https://localhost:8080/"
        },
        "id": "qyzBnnjW6qOf",
        "outputId": "93e00b10-2edc-47d0-de82-4a1b340957ba"
      },
      "execution_count": null,
      "outputs": [
        {
          "output_type": "execute_result",
          "data": {
            "text/plain": [
              "<sqlite3.Cursor at 0x7efef19ad840>"
            ]
          },
          "metadata": {},
          "execution_count": 6
        }
      ]
    },
    {
      "cell_type": "code",
      "source": [
        "# Fetch all the results\n",
        "big_countries = cursor.fetchall()\n",
        "\n",
        "# Print the results\n",
        "for country in big_countries:\n",
        "    name, population, area = country\n",
        "    print(f\"Name: {name}, Population: {population}, Area: {area}\")\n"
      ],
      "metadata": {
        "colab": {
          "base_uri": "https://localhost:8080/"
        },
        "id": "kk_SQggb6uvT",
        "outputId": "80e811ee-b0b2-40c2-ff85-83fd3c314a0d"
      },
      "execution_count": null,
      "outputs": [
        {
          "output_type": "stream",
          "name": "stdout",
          "text": [
            "Name: Afghanistan, Population: 25500100, Area: 652230.0\n",
            "Name: Algeria, Population: 37100000, Area: 2381741.0\n"
          ]
        }
      ]
    },
    {
      "cell_type": "code",
      "source": [
        "# Close the connection\n",
        "conn.close()"
      ],
      "metadata": {
        "id": "3JRHC1qc6yYB"
      },
      "execution_count": null,
      "outputs": []
    }
  ]
}